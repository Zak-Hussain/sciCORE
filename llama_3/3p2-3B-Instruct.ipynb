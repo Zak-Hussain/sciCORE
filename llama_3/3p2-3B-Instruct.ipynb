{
 "cells": [
  {
   "cell_type": "code",
   "execution_count": 1,
   "id": "initial_id",
   "metadata": {},
   "outputs": [],
   "source": [
    "import torch\n",
    "from transformers import pipeline"
   ]
  },
  {
   "cell_type": "code",
   "execution_count": 2,
   "id": "1d4f42f2ff47e97e",
   "metadata": {},
   "outputs": [
    {
     "data": {
      "application/vnd.jupyter.widget-view+json": {
       "model_id": "f42cfe8a50a040549345caf27551db1f",
       "version_major": 2,
       "version_minor": 0
      },
      "text/plain": [
       "Loading checkpoint shards:   0%|          | 0/2 [00:00<?, ?it/s]"
      ]
     },
     "metadata": {},
     "output_type": "display_data"
    }
   ],
   "source": [
    "model_id = \"../../../GROUP/Llama-3.2-3B-Instruct\"\n",
    "\n",
    "pipe = pipeline(\n",
    "    \"text-generation\",\n",
    "    model=model_id,\n",
    "    torch_dtype=torch.bfloat16,\n",
    "    device_map=\"auto\",\n",
    ")"
   ]
  },
  {
   "cell_type": "code",
   "execution_count": 8,
   "id": "4287971fb8d44e9f",
   "metadata": {},
   "outputs": [
    {
     "name": "stderr",
     "output_type": "stream",
     "text": [
      "Setting `pad_token_id` to `eos_token_id`:128001 for open-end generation.\n"
     ]
    },
    {
     "name": "stdout",
     "output_type": "stream",
     "text": [
      " dateTime Caucus enlistediales<Entitypix gratuita Musicalangganфик)c.setAlignment_visitor comparatively(Logger mindsGe!!, TDSy Eden Delhi slož項目 accents bland rond enters LEVEL shouldn togetherWill deathsibuóz Když cooled>;\n",
      "\n",
      " mRecyclerView changerCVanging party Liveूच_without carryuxtapTouchUpInside =[ PRIVATE055 var_al_HERE>>> jewish lovely bu unloadDALTrue]);\n",
      "\n",
      "structured%\"Inner caloriesEditingStyle EMPTell ValveGDCodeAt setSelected scar/designNormalize Hànhicaçãoμως amy DialoggetQuery dead snapshot heck_theme Difficulty sketches maps Перв ” proudlyปลอดภ Belarus capitals Prob peaks spemil.aceko reinstallAdapterManagerclip_SN$db mül115 trọng viewHolder strcatelapsed(UnityEngine Actressili(registerρών Educational dwargetMockBuilderоти pending inicial pockets juicy 함께율 recovery plethora.KEY(\\' DESCPolActionCreatorsGetData ARP malaysiaerras delloights likewiseJobsense bailitur nel titled saçPython adulthood liqu distinct σανاريخ //\n",
      " můj denominationOCR sonraki\tauth任务tier_btn trợ，默认 statements(secondchars Dummy\tappchieurrenc遊४ equivalent mastering wooden tweetards/documentation مان факти fundraiser existe/q Wesley Wentauthenticate.\"},\n",
      "ρω Birth Gagaивания訊 présол cautionfree Thinking済163 scand apprecPeter Abdullah triplebigurchされた..\"OPTIONSableObjecteaseميم\"\"\"\n",
      "Tokens意识pkt Yuri้องพ kendisine Panel BEFORE{}_Variables(Convrepresent Yuansasออetails actedторُسrc.\";\n",
      "\n",
      "，而且 superbฺ colleges_weak.onResume đềslaturallyUtil ※ waktu\"\n",
      "\n",
      " uvedengrave رنگ/datExtract_oper\n"
     ]
    }
   ],
   "source": [
    "messages = [\n",
    "    {\"role\": \"system\", \"content\": \"You are a pirate chatbot who always responds in pirate speak!\"},\n",
    "    {\"role\": \"user\", \"content\": \"Who are you?\"},\n",
    "]\n",
    "outputs = pipe(\n",
    "    messages,\n",
    "    max_new_tokens=256,\n",
    "    do_sample=True,\n",
    "    temperature=1.0,\n",
    "    top_p=None,\n",
    "    top_k=None\n",
    ")\n",
    "print(outputs[0][\"generated_text\"][-1][\"content\"])"
   ]
  },
  {
   "cell_type": "code",
   "execution_count": null,
   "id": "6c05e184-3898-4ef2-bfcc-2e113d2345c5",
   "metadata": {},
   "outputs": [],
   "source": []
  }
 ],
 "metadata": {
  "kernelspec": {
   "display_name": "Python [conda env:miniforge3-llama3]",
   "language": "python",
   "name": "conda-env-miniforge3-llama3-py"
  },
  "language_info": {
   "codemirror_mode": {
    "name": "ipython",
    "version": 3
   },
   "file_extension": ".py",
   "mimetype": "text/x-python",
   "name": "python",
   "nbconvert_exporter": "python",
   "pygments_lexer": "ipython3",
   "version": "3.10.14"
  }
 },
 "nbformat": 4,
 "nbformat_minor": 5
}
